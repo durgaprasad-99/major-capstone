{
  "nbformat": 4,
  "nbformat_minor": 0,
  "metadata": {
    "colab": {
      "name": "Capstone_Pyspark_olympic_Project2.ipynb",
      "provenance": [],
      "collapsed_sections": []
    },
    "kernelspec": {
      "name": "python3",
      "display_name": "Python 3"
    },
    "language_info": {
      "name": "python"
    }
  },
  "cells": [
    {
      "cell_type": "code",
      "source": [
        "#install pyspark\n",
        "pip install pyspark"
      ],
      "metadata": {
        "colab": {
          "base_uri": "https://localhost:8080/"
        },
        "id": "wRHeqxou7yVN",
        "outputId": "d0a3bdba-8c60-43bd-e779-2e11e54a1538"
      },
      "execution_count": 2,
      "outputs": [
        {
          "output_type": "stream",
          "name": "stdout",
          "text": [
            "Looking in indexes: https://pypi.org/simple, https://us-python.pkg.dev/colab-wheels/public/simple/\n",
            "Collecting pyspark\n",
            "  Downloading pyspark-3.3.0.tar.gz (281.3 MB)\n",
            "\u001b[K     |████████████████████████████████| 281.3 MB 46 kB/s \n",
            "\u001b[?25hCollecting py4j==0.10.9.5\n",
            "  Downloading py4j-0.10.9.5-py2.py3-none-any.whl (199 kB)\n",
            "\u001b[K     |████████████████████████████████| 199 kB 45.4 MB/s \n",
            "\u001b[?25hBuilding wheels for collected packages: pyspark\n",
            "  Building wheel for pyspark (setup.py) ... \u001b[?25l\u001b[?25hdone\n",
            "  Created wheel for pyspark: filename=pyspark-3.3.0-py2.py3-none-any.whl size=281764026 sha256=fb715a58d97af9a4f91bed20daccd958bd138cb79315685086a06097c3bb633d\n",
            "  Stored in directory: /root/.cache/pip/wheels/7a/8e/1b/f73a52650d2e5f337708d9f6a1750d451a7349a867f928b885\n",
            "Successfully built pyspark\n",
            "Installing collected packages: py4j, pyspark\n",
            "Successfully installed py4j-0.10.9.5 pyspark-3.3.0\n"
          ]
        }
      ]
    },
    {
      "cell_type": "code",
      "source": [
        "#Initializing PySpark\n",
        "from pyspark import SparkContext, SparkConf\n",
        "from pyspark.sql import SparkSession\n",
        "from pyspark.sql import SQLContext\n",
        "# #Spark Config\n",
        "conf = SparkConf().setAppName(\"sample_app\")\n",
        "sc = SparkContext(conf=conf)\n",
        "spark = SparkSession.builder.appName('Test').getOrCreate()\n",
        "sqlContext = SQLContext(sc)"
      ],
      "metadata": {
        "colab": {
          "base_uri": "https://localhost:8080/"
        },
        "id": "Xd7Y-6wCucGs",
        "outputId": "48b8190b-3f53-4492-a605-d7c801b3f3c6"
      },
      "execution_count": 3,
      "outputs": [
        {
          "output_type": "stream",
          "name": "stderr",
          "text": [
            "/usr/local/lib/python3.7/dist-packages/pyspark/sql/context.py:114: FutureWarning: Deprecated in 3.0.0. Use SparkSession.builder.getOrCreate() instead.\n",
            "  FutureWarning,\n"
          ]
        }
      ]
    },
    {
      "cell_type": "code",
      "source": [
        "from pyspark.sql import functions as f\n",
        "from pyspark.sql.functions import udf,col"
      ],
      "metadata": {
        "id": "-vDmt8aky26g"
      },
      "execution_count": 4,
      "outputs": []
    },
    {
      "cell_type": "markdown",
      "source": [
        "##Write PySpark code to read the olympix_data.csv file\n"
      ],
      "metadata": {
        "id": "YNFVXwJYCVIX"
      }
    },
    {
      "cell_type": "code",
      "source": [
        "#read the dataset using spark and store it in a dataframe\n",
        "df = spark.read.format(\"csv\").option(\"header\",\"true\").option(\"inferSchema\",\"true\").load(\"/content/olympix_data_organized_with_header (1) (1).csv\")\n",
        "df.show() #print output\n",
        "df.count() # count of records\n",
        "len(df.columns) # columns"
      ],
      "metadata": {
        "colab": {
          "base_uri": "https://localhost:8080/"
        },
        "id": "1mMl3adsvSOO",
        "outputId": "0fad88cc-4dce-4b9c-8c2c-2bbf5f0da384"
      },
      "execution_count": 5,
      "outputs": [
        {
          "output_type": "stream",
          "name": "stdout",
          "text": [
            "+--------------------+---+-------------+----+----------+--------------------+----------+------------+-----------+-----------+\n",
            "|                name|age|      country|year|Date_Given|              sports|gold_medal|silver_medal|brone_medal|total_medal|\n",
            "+--------------------+---+-------------+----+----------+--------------------+----------+------------+-----------+-----------+\n",
            "|      Michael Phelps| 23|United States|2008| 8/24/2008|            Swimming|         8|           0|          0|          8|\n",
            "|      Michael Phelps| 19|United States|2004| 8/29/2004|            Swimming|         6|           0|          2|          8|\n",
            "|      Michael Phelps| 27|United States|2012|08-12-2012|            Swimming|         4|           2|          0|          6|\n",
            "|    Natalie Coughlin| 25|United States|2008| 8/24/2008|            Swimming|         1|           2|          3|          6|\n",
            "|       Aleksey Nemov| 24|       Russia|2000|10-01-2000|          Gymnastics|         2|           1|          3|          6|\n",
            "|       Alicia Coutts| 24|    Australia|2012|08-12-2012|            Swimming|         1|           3|          1|          5|\n",
            "|      Missy Franklin| 17|United States|2012|08-12-2012|            Swimming|         4|           0|          1|          5|\n",
            "|         Ryan Lochte| 27|United States|2012|08-12-2012|            Swimming|         2|           2|          1|          5|\n",
            "|     Allison Schmitt| 22|United States|2012|08-12-2012|            Swimming|         3|           1|          1|          5|\n",
            "|    Natalie Coughlin| 21|United States|2004| 8/29/2004|            Swimming|         2|           2|          1|          5|\n",
            "|          Ian Thorpe| 17|    Australia|2000|10-01-2000|            Swimming|         3|           2|          0|          5|\n",
            "|         Dara Torres| 33|United States|2000|10-01-2000|            Swimming|         2|           0|          3|          5|\n",
            "|       Cindy Klassen| 26|       Canada|2006| 2/26/2006|       Speed Skating|         1|           2|          2|          5|\n",
            "|       Nastia Liukin| 18|United States|2008| 8/24/2008|          Gymnastics|         1|           3|          1|          5|\n",
            "|       Marit Bjørgen| 29|       Norway|2010| 2/28/2010|Cross Country Skiing|         3|           1|          1|          5|\n",
            "|            Sun Yang| 20|        China|2012|08-12-2012|            Swimming|         2|           1|          1|          4|\n",
            "|     Kirsty Coventry| 24|     Zimbabwe|2008| 8/24/2008|            Swimming|         1|           3|          0|          4|\n",
            "|Libby Lenton-Tric...| 23|    Australia|2008| 8/24/2008|            Swimming|         2|           1|          1|          4|\n",
            "|         Ryan Lochte| 24|United States|2008| 8/24/2008|            Swimming|         2|           0|          2|          4|\n",
            "|      Inge de Bruijn| 30|  Netherlands|2004| 8/29/2004|            Swimming|         1|           1|          2|          4|\n",
            "+--------------------+---+-------------+----+----------+--------------------+----------+------------+-----------+-----------+\n",
            "only showing top 20 rows\n",
            "\n"
          ]
        },
        {
          "output_type": "execute_result",
          "data": {
            "text/plain": [
              "10"
            ]
          },
          "metadata": {},
          "execution_count": 5
        }
      ]
    },
    {
      "cell_type": "markdown",
      "source": [
        "There are 8618 rows and 10 columns in the dataframe."
      ],
      "metadata": {
        "id": "avBP5V-oIsyx"
      }
    },
    {
      "cell_type": "code",
      "source": [
        "df1= df.na.drop(how = \"any\") # Dropping the NULL Values .\n",
        "df1.show()"
      ],
      "metadata": {
        "colab": {
          "base_uri": "https://localhost:8080/"
        },
        "id": "zQs03agQkb4A",
        "outputId": "4380a930-0aad-4080-bfd2-f96292808f3b"
      },
      "execution_count": 6,
      "outputs": [
        {
          "output_type": "stream",
          "name": "stdout",
          "text": [
            "+--------------------+---+-------------+----+----------+--------------------+----------+------------+-----------+-----------+\n",
            "|                name|age|      country|year|Date_Given|              sports|gold_medal|silver_medal|brone_medal|total_medal|\n",
            "+--------------------+---+-------------+----+----------+--------------------+----------+------------+-----------+-----------+\n",
            "|      Michael Phelps| 23|United States|2008| 8/24/2008|            Swimming|         8|           0|          0|          8|\n",
            "|      Michael Phelps| 19|United States|2004| 8/29/2004|            Swimming|         6|           0|          2|          8|\n",
            "|      Michael Phelps| 27|United States|2012|08-12-2012|            Swimming|         4|           2|          0|          6|\n",
            "|    Natalie Coughlin| 25|United States|2008| 8/24/2008|            Swimming|         1|           2|          3|          6|\n",
            "|       Aleksey Nemov| 24|       Russia|2000|10-01-2000|          Gymnastics|         2|           1|          3|          6|\n",
            "|       Alicia Coutts| 24|    Australia|2012|08-12-2012|            Swimming|         1|           3|          1|          5|\n",
            "|      Missy Franklin| 17|United States|2012|08-12-2012|            Swimming|         4|           0|          1|          5|\n",
            "|         Ryan Lochte| 27|United States|2012|08-12-2012|            Swimming|         2|           2|          1|          5|\n",
            "|     Allison Schmitt| 22|United States|2012|08-12-2012|            Swimming|         3|           1|          1|          5|\n",
            "|    Natalie Coughlin| 21|United States|2004| 8/29/2004|            Swimming|         2|           2|          1|          5|\n",
            "|          Ian Thorpe| 17|    Australia|2000|10-01-2000|            Swimming|         3|           2|          0|          5|\n",
            "|         Dara Torres| 33|United States|2000|10-01-2000|            Swimming|         2|           0|          3|          5|\n",
            "|       Cindy Klassen| 26|       Canada|2006| 2/26/2006|       Speed Skating|         1|           2|          2|          5|\n",
            "|       Nastia Liukin| 18|United States|2008| 8/24/2008|          Gymnastics|         1|           3|          1|          5|\n",
            "|       Marit Bjørgen| 29|       Norway|2010| 2/28/2010|Cross Country Skiing|         3|           1|          1|          5|\n",
            "|            Sun Yang| 20|        China|2012|08-12-2012|            Swimming|         2|           1|          1|          4|\n",
            "|     Kirsty Coventry| 24|     Zimbabwe|2008| 8/24/2008|            Swimming|         1|           3|          0|          4|\n",
            "|Libby Lenton-Tric...| 23|    Australia|2008| 8/24/2008|            Swimming|         2|           1|          1|          4|\n",
            "|         Ryan Lochte| 24|United States|2008| 8/24/2008|            Swimming|         2|           0|          2|          4|\n",
            "|      Inge de Bruijn| 30|  Netherlands|2004| 8/29/2004|            Swimming|         1|           1|          2|          4|\n",
            "+--------------------+---+-------------+----+----------+--------------------+----------+------------+-----------+-----------+\n",
            "only showing top 20 rows\n",
            "\n"
          ]
        }
      ]
    },
    {
      "cell_type": "code",
      "source": [
        "#check the Records inthe Dataframe After dropping the Null Values.\n",
        "df1.count()"
      ],
      "metadata": {
        "colab": {
          "base_uri": "https://localhost:8080/"
        },
        "id": "wrualDghBBeS",
        "outputId": "2a45ba83-66c8-46e8-94d6-895447ad7c65"
      },
      "execution_count": 7,
      "outputs": [
        {
          "output_type": "execute_result",
          "data": {
            "text/plain": [
              "8613"
            ]
          },
          "metadata": {},
          "execution_count": 7
        }
      ]
    },
    {
      "cell_type": "markdown",
      "source": [
        "After  dropping the Null Values we got 8613 records."
      ],
      "metadata": {
        "id": "BgZkJ8SHBPs-"
      }
    },
    {
      "cell_type": "code",
      "source": [
        "df1.printSchema()"
      ],
      "metadata": {
        "colab": {
          "base_uri": "https://localhost:8080/"
        },
        "id": "0zdRcVBzkXOH",
        "outputId": "5c1a3500-8808-4e76-fef7-4a50a5f297fa"
      },
      "execution_count": 8,
      "outputs": [
        {
          "output_type": "stream",
          "name": "stdout",
          "text": [
            "root\n",
            " |-- name: string (nullable = true)\n",
            " |-- age: integer (nullable = true)\n",
            " |-- country: string (nullable = true)\n",
            " |-- year: integer (nullable = true)\n",
            " |-- Date_Given: string (nullable = true)\n",
            " |-- sports: string (nullable = true)\n",
            " |-- gold_medal: integer (nullable = true)\n",
            " |-- silver_medal: integer (nullable = true)\n",
            " |-- brone_medal: integer (nullable = true)\n",
            " |-- total_medal: integer (nullable = true)\n",
            "\n"
          ]
        }
      ]
    },
    {
      "cell_type": "markdown",
      "source": [
        "Here we can see that \"Date_Given\" attribute is read as \"String\".So,need to convert that into \"Date datatype\"."
      ],
      "metadata": {
        "id": "Pv8FgC5QAoTq"
      }
    },
    {
      "cell_type": "code",
      "source": [
        "#Convert the Date_Given attribute from String datatype to Date datatype \n",
        "modifiedDF = df1.withColumn(\"Date_Given\",f.to_date(df.Date_Given,\"mm/dd/yyyy\"))\n",
        "modifiedDF.printSchema()"
      ],
      "metadata": {
        "colab": {
          "base_uri": "https://localhost:8080/"
        },
        "id": "BTd3LjW2jb2e",
        "outputId": "49b30445-14f7-4ea4-be1a-78ae35cbcda4"
      },
      "execution_count": 9,
      "outputs": [
        {
          "output_type": "stream",
          "name": "stdout",
          "text": [
            "root\n",
            " |-- name: string (nullable = true)\n",
            " |-- age: integer (nullable = true)\n",
            " |-- country: string (nullable = true)\n",
            " |-- year: integer (nullable = true)\n",
            " |-- Date_Given: date (nullable = true)\n",
            " |-- sports: string (nullable = true)\n",
            " |-- gold_medal: integer (nullable = true)\n",
            " |-- silver_medal: integer (nullable = true)\n",
            " |-- brone_medal: integer (nullable = true)\n",
            " |-- total_medal: integer (nullable = true)\n",
            "\n"
          ]
        }
      ]
    },
    {
      "cell_type": "markdown",
      "source": [
        "Everything is Perfect now..\"Date_Given\" is reading as \"Date datatype\"."
      ],
      "metadata": {
        "id": "PRnb9kxtBZjB"
      }
    },
    {
      "cell_type": "markdown",
      "source": [
        "##Write PySpark code to print the Olympic Sports/games in the dataset.\n"
      ],
      "metadata": {
        "id": "AUKm_EulC1Mc"
      }
    },
    {
      "cell_type": "code",
      "source": [
        "df2 = modifiedDF.select(\"sports\").distinct() # selecting the sports columns.\n",
        "df2.show()\n",
        "df2.count()"
      ],
      "metadata": {
        "colab": {
          "base_uri": "https://localhost:8080/"
        },
        "id": "R59F4n9jGb6g",
        "outputId": "69daac87-d8ca-41a5-9f07-550b139d6fef"
      },
      "execution_count": 10,
      "outputs": [
        {
          "output_type": "stream",
          "name": "stdout",
          "text": [
            "+--------------------+\n",
            "|              sports|\n",
            "+--------------------+\n",
            "|          Gymnastics|\n",
            "|              Tennis|\n",
            "|              Boxing|\n",
            "|Short-Track Speed...|\n",
            "|          Ice Hockey|\n",
            "|              Rowing|\n",
            "|                Judo|\n",
            "|            Softball|\n",
            "|             Sailing|\n",
            "|            Swimming|\n",
            "|       Alpine Skiing|\n",
            "|          Basketball|\n",
            "|            Handball|\n",
            "| Rhythmic Gymnastics|\n",
            "|            Biathlon|\n",
            "|           Triathlon|\n",
            "|           Badminton|\n",
            "|           Athletics|\n",
            "|      Figure Skating|\n",
            "|    Beach Volleyball|\n",
            "+--------------------+\n",
            "only showing top 20 rows\n",
            "\n"
          ]
        },
        {
          "output_type": "execute_result",
          "data": {
            "text/plain": [
              "49"
            ]
          },
          "metadata": {},
          "execution_count": 10
        }
      ]
    },
    {
      "cell_type": "markdown",
      "source": [
        "Here we can see that there are 49 sports. "
      ],
      "metadata": {
        "id": "VK25EWIuHu-N"
      }
    },
    {
      "cell_type": "markdown",
      "source": [
        "##Write PySpark code to plot the total number of medals in  each Olympic Sport/game\n"
      ],
      "metadata": {
        "id": "kOX5xVRMDOq-"
      }
    },
    {
      "cell_type": "code",
      "source": [
        "res1 = modifiedDF.groupBy(\"sports\").agg({\"total_medal\" :\"sum\"}) \n",
        "res1 = res1.withColumnRenamed(\"sum(total_medal)\",\"Total_medals\").show()\n"
      ],
      "metadata": {
        "colab": {
          "base_uri": "https://localhost:8080/"
        },
        "id": "ZfftXW_nLrti",
        "outputId": "fd50f573-f453-4d9c-adc5-79d1ee0a297f"
      },
      "execution_count": 11,
      "outputs": [
        {
          "output_type": "stream",
          "name": "stdout",
          "text": [
            "+--------------------+------------+\n",
            "|              sports|Total_medals|\n",
            "+--------------------+------------+\n",
            "|          Gymnastics|         282|\n",
            "|              Tennis|          78|\n",
            "|              Boxing|         188|\n",
            "|Short-Track Speed...|         138|\n",
            "|          Ice Hockey|         384|\n",
            "|              Rowing|         576|\n",
            "|                Judo|         224|\n",
            "|            Softball|         134|\n",
            "|             Sailing|         210|\n",
            "|            Swimming|         765|\n",
            "|       Alpine Skiing|          90|\n",
            "|          Basketball|         287|\n",
            "|            Handball|         351|\n",
            "| Rhythmic Gymnastics|          84|\n",
            "|            Biathlon|         138|\n",
            "|           Triathlon|          24|\n",
            "|           Badminton|          96|\n",
            "|           Athletics|         753|\n",
            "|      Figure Skating|          54|\n",
            "|    Beach Volleyball|          48|\n",
            "+--------------------+------------+\n",
            "only showing top 20 rows\n",
            "\n"
          ]
        }
      ]
    },
    {
      "cell_type": "markdown",
      "source": [
        "In the above code we can see that, we are doing groupby to the \"sports\" data and using the aggregate function \"SUM\" to the \"total_medal\" attribute.And Renaming the column as \"Total_medals\"."
      ],
      "metadata": {
        "id": "iYrbxkAflq-M"
      }
    },
    {
      "cell_type": "code",
      "source": [
        "import matplotlib.pyplot as plt \n",
        "res1 = modifiedDF.groupBy(\"sports\").agg({\"total_medal\" :\"sum\"})\n",
        "res1 = res1.withColumnRenamed(\"sum(total_medal)\",\"Total_medals\")\n",
        "pandas_df = res1.toPandas()  #converting into  Pandas Dataframe\n",
        "pandas_df.plot.bar(x = \"sports\", y = \"Total_medals\", title = \"Total medals in each olympic game\") # creating a barplot.\n",
        "\n"
      ],
      "metadata": {
        "colab": {
          "base_uri": "https://localhost:8080/",
          "height": 433
        },
        "id": "Hwiy9kKjJJPR",
        "outputId": "ab4c7ddb-0077-4ba7-b5d7-31ad2095b18c"
      },
      "execution_count": 12,
      "outputs": [
        {
          "output_type": "execute_result",
          "data": {
            "text/plain": [
              "<matplotlib.axes._subplots.AxesSubplot at 0x7f69bd483150>"
            ]
          },
          "metadata": {},
          "execution_count": 12
        },
        {
          "output_type": "display_data",
          "data": {
            "text/plain": [
              "<Figure size 432x288 with 1 Axes>"
            ],
            "image/png": "[encoded data removed]"
          },
          "metadata": {
            "needs_background": "light"
          }
        }
      ]
    },
    {
      "cell_type": "markdown",
      "source": [
        "Now, we are doing data visualization , first we need to convert the \"res\" dataframe into \"toPandas\" dataframe.Then creating a bar plot by giving \"x\" and \"y\" values and a Title for the plot."
      ],
      "metadata": {
        "id": "mndsY9PNmial"
      }
    },
    {
      "cell_type": "markdown",
      "source": [
        "##Sort the result based on the total number of medals."
      ],
      "metadata": {
        "id": "P50F0CdK9fv8"
      }
    },
    {
      "cell_type": "code",
      "source": [
        "res1.orderBy(f.desc(\"Total_medals\")).show() # using orderby function sorting the Total_medals in descending order."
      ],
      "metadata": {
        "colab": {
          "base_uri": "https://localhost:8080/"
        },
        "id": "RT012OvQ8eEX",
        "outputId": "659ee693-c39c-4c8c-e286-12b34697fe94"
      },
      "execution_count": 14,
      "outputs": [
        {
          "output_type": "stream",
          "name": "stdout",
          "text": [
            "+----------+------------+\n",
            "|    sports|Total_medals|\n",
            "+----------+------------+\n",
            "|  Swimming|         765|\n",
            "| Athletics|         753|\n",
            "|    Rowing|         576|\n",
            "|  Football|         407|\n",
            "|    Hockey|         386|\n",
            "|Ice Hockey|         384|\n",
            "|  Handball|         351|\n",
            "|  Canoeing|         333|\n",
            "| Waterpolo|         306|\n",
            "|   Cycling|         306|\n",
            "|Basketball|         287|\n",
            "|Gymnastics|         282|\n",
            "|Volleyball|         278|\n",
            "|   Fencing|         256|\n",
            "| Wrestling|         245|\n",
            "|      Judo|         224|\n",
            "|  Baseball|         216|\n",
            "|   Sailing|         210|\n",
            "|  Shooting|         192|\n",
            "|    Boxing|         188|\n",
            "+----------+------------+\n",
            "only showing top 20 rows\n",
            "\n"
          ]
        }
      ]
    },
    {
      "cell_type": "markdown",
      "source": [
        "##Find the total number of medals won by each country in swimming.\n"
      ],
      "metadata": {
        "id": "SJepjw9MEJQ9"
      }
    },
    {
      "cell_type": "code",
      "source": [
        "res=modifiedDF.select(\"total_medal\",\"sports\",\"country\").where(modifiedDF.sports==\"Swimming\")\n",
        "res.groupby(\"country\").sum(\"total_medal\").show()\n"
      ],
      "metadata": {
        "colab": {
          "base_uri": "https://localhost:8080/"
        },
        "id": "hdTmt_lWMeBw",
        "outputId": "fffaec48-07e0-49be-a3fb-fdaf46d6604f"
      },
      "execution_count": 15,
      "outputs": [
        {
          "output_type": "stream",
          "name": "stdout",
          "text": [
            "+-------------+----------------+\n",
            "|      country|sum(total_medal)|\n",
            "+-------------+----------------+\n",
            "|       Russia|              20|\n",
            "|       Sweden|               9|\n",
            "|      Germany|              32|\n",
            "|       France|              39|\n",
            "|     Slovakia|               2|\n",
            "|    Argentina|               1|\n",
            "|Great Britain|              11|\n",
            "|United States|             267|\n",
            "|        China|              35|\n",
            "|      Belarus|               2|\n",
            "|      Croatia|               1|\n",
            "|        Italy|              16|\n",
            "|    Lithuania|               1|\n",
            "|       Norway|               2|\n",
            "|        Spain|               3|\n",
            "|      Denmark|               1|\n",
            "|      Ukraine|               7|\n",
            "|  South Korea|               4|\n",
            "|     Zimbabwe|               7|\n",
            "|      Tunisia|               3|\n",
            "+-------------+----------------+\n",
            "only showing top 20 rows\n",
            "\n"
          ]
        }
      ]
    },
    {
      "cell_type": "markdown",
      "source": [
        "##Find the total number of medals won by each country in Skeleton.\n"
      ],
      "metadata": {
        "id": "FnigkEraERv0"
      }
    },
    {
      "cell_type": "code",
      "source": [
        "res=modifiedDF.select(\"total_medal\",\"country\",\"sports\").where(modifiedDF.sports==\"Skeleton\")\n",
        "res.groupby(\"country\").sum(\"total_medal\").show()"
      ],
      "metadata": {
        "colab": {
          "base_uri": "https://localhost:8080/"
        },
        "id": "Fdajw1oNidLX",
        "outputId": "8eb385d0-8708-4fb0-f26f-dfea1368e871"
      },
      "execution_count": 16,
      "outputs": [
        {
          "output_type": "stream",
          "name": "stdout",
          "text": [
            "+-------------+----------------+\n",
            "|      country|sum(total_medal)|\n",
            "+-------------+----------------+\n",
            "|       Russia|               1|\n",
            "|      Germany|               2|\n",
            "|Great Britain|               3|\n",
            "|United States|               3|\n",
            "|  Switzerland|               3|\n",
            "|       Latvia|               1|\n",
            "|       Canada|               4|\n",
            "|      Austria|               1|\n",
            "+-------------+----------------+\n",
            "\n"
          ]
        }
      ]
    },
    {
      "cell_type": "markdown",
      "source": [
        "##Find the number of medals that the US won yearly.\n"
      ],
      "metadata": {
        "id": "KOhc5YDyHggv"
      }
    },
    {
      "cell_type": "code",
      "source": [
        "res3=modifiedDF.select(\"total_medal\",\"year\",\"country\").where(modifiedDF.country==\"United States\")\n",
        "res3.groupby(\"year\").sum(\"total_medal\").show()\n"
      ],
      "metadata": {
        "colab": {
          "base_uri": "https://localhost:8080/"
        },
        "id": "UCbT43ErwBSr",
        "outputId": "2d293e3c-fbf2-4581-86c1-6b59bab69f60"
      },
      "execution_count": 17,
      "outputs": [
        {
          "output_type": "stream",
          "name": "stdout",
          "text": [
            "+----+----------------+\n",
            "|year|sum(total_medal)|\n",
            "+----+----------------+\n",
            "|2006|              52|\n",
            "|2004|             265|\n",
            "|2012|             254|\n",
            "|2000|             243|\n",
            "|2010|              97|\n",
            "|2008|             317|\n",
            "|2002|              84|\n",
            "+----+----------------+\n",
            "\n"
          ]
        }
      ]
    },
    {
      "cell_type": "markdown",
      "source": [
        "##Find the total number of medals won by each country.\n"
      ],
      "metadata": {
        "id": "jaMjWECIJ24L"
      }
    },
    {
      "cell_type": "code",
      "source": [
        "res4=modifiedDF.groupBy(\"country\").agg({\"total_medal\":\"sum\"})\n",
        "res4 = res4.withColumnRenamed(\"sum(total_medal)\",\"Total_medals\").show()"
      ],
      "metadata": {
        "colab": {
          "base_uri": "https://localhost:8080/"
        },
        "id": "ZrKGnXdjxpsG",
        "outputId": "7266e941-b949-48a4-d66b-8bf9536b245a"
      },
      "execution_count": 18,
      "outputs": [
        {
          "output_type": "stream",
          "name": "stdout",
          "text": [
            "+--------------+------------+\n",
            "|       country|Total_medals|\n",
            "+--------------+------------+\n",
            "|        Russia|         768|\n",
            "|      Paraguay|          17|\n",
            "|Chinese Taipei|          20|\n",
            "|        Sweden|         181|\n",
            "|       Eritrea|           1|\n",
            "|     Singapore|           7|\n",
            "|      Malaysia|           3|\n",
            "|        Turkey|          28|\n",
            "|       Germany|         629|\n",
            "|   Afghanistan|           2|\n",
            "|         Sudan|           1|\n",
            "|        France|         318|\n",
            "|        Greece|          59|\n",
            "|     Sri Lanka|           1|\n",
            "|       Algeria|           8|\n",
            "|          Togo|           1|\n",
            "|      Slovakia|          35|\n",
            "|     Argentina|         139|\n",
            "|       Belgium|          18|\n",
            "| Great Britain|         322|\n",
            "+--------------+------------+\n",
            "only showing top 20 rows\n",
            "\n"
          ]
        }
      ]
    },
    {
      "cell_type": "markdown",
      "source": [
        "##Who was the oldest athlete in the olympics? \n"
      ],
      "metadata": {
        "id": "5gLZRm1IKKNP"
      }
    },
    {
      "cell_type": "code",
      "source": [
        "modifiedDF.agg({\"age\" :\"max\"}),modifiedDF.where(modifiedDF.age == \"61\").select(\"name\",\"age\").show()\n",
        "\n"
      ],
      "metadata": {
        "colab": {
          "base_uri": "https://localhost:8080/"
        },
        "id": "xcwFOo0R1HXk",
        "outputId": "e264e736-f1e9-4a7c-ab14-94578da18465"
      },
      "execution_count": 19,
      "outputs": [
        {
          "output_type": "stream",
          "name": "stdout",
          "text": [
            "+----------+---+\n",
            "|      name|age|\n",
            "+----------+---+\n",
            "|Ian Millar| 61|\n",
            "+----------+---+\n",
            "\n"
          ]
        },
        {
          "output_type": "execute_result",
          "data": {
            "text/plain": [
              "(DataFrame[max(age): int], None)"
            ]
          },
          "metadata": {},
          "execution_count": 19
        }
      ]
    },
    {
      "cell_type": "markdown",
      "source": [
        "Ian Miller is the oldest athlete,his age is 61."
      ],
      "metadata": {
        "id": "W2AKSNgQIaoh"
      }
    },
    {
      "cell_type": "markdown",
      "source": [
        "##Which country was he/she from? \n"
      ],
      "metadata": {
        "id": "6S6otbkrMxF_"
      }
    },
    {
      "cell_type": "code",
      "source": [
        "#selecting the name ,age and country and giving age = 61.\n",
        "modifiedDF.where(modifiedDF.age == \"61\").select(\"name\",\"age\",\"country\").show()  # using Where function and selecting the columns like name,age and country."
      ],
      "metadata": {
        "colab": {
          "base_uri": "https://localhost:8080/"
        },
        "id": "bIdUGiaV8Fu3",
        "outputId": "fb71d8b6-943b-4a41-b367-6f2d94dc2f8b"
      },
      "execution_count": 20,
      "outputs": [
        {
          "output_type": "stream",
          "name": "stdout",
          "text": [
            "+----------+---+-------+\n",
            "|      name|age|country|\n",
            "+----------+---+-------+\n",
            "|Ian Millar| 61| Canada|\n",
            "+----------+---+-------+\n",
            "\n"
          ]
        }
      ]
    },
    {
      "cell_type": "markdown",
      "source": [
        "Ian Millar was from canada."
      ],
      "metadata": {
        "id": "8Bb0-zW6Iwsd"
      }
    }
  ]
}